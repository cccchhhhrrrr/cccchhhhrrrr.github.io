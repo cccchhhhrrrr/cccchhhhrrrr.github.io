{
 "cells": [
  {
   "cell_type": "code",
   "execution_count": 116,
   "metadata": {},
   "outputs": [],
   "source": [
    "import numpy as np\n",
    "import pandas as pd\n",
    "import re\n",
    "import requests\n",
    "import time\n",
    "from collections import defaultdict\n",
    "from datetime import datetime\n",
    "from bs4 import BeautifulSoup"
   ]
  },
  {
   "cell_type": "code",
   "execution_count": 117,
   "metadata": {},
   "outputs": [],
   "source": [
    "df_race_results = pd.DataFrame(columns = [\n",
    "    'RACE',\n",
    "    'YEAR',\n",
    "    'STAGE_ID',\n",
    "    'STAGE_DATE',\n",
    "    'STAGE_NAME',\n",
    "    'STAGE_PROFILE',\n",
    "    'STAGE_TYPE',\n",
    "    'RANK',\n",
    "    'RIDER',\n",
    "    'TEAM',\n",
    "    'UCI_POINTS',\n",
    "    'PCS_POINTS',\n",
    "    'UPDATE_TIMESTAMP'\n",
    "], index = [0])"
   ]
  },
  {
   "cell_type": "code",
   "execution_count": 118,
   "metadata": {},
   "outputs": [],
   "source": [
    "def get_startlist(link):\n",
    "    \n",
    "    URL = \"https://www.procyclingstats.com/race/volta-ao-algarve/2025/startlist/alphabetical\"\n",
    "    # link\n",
    "    \n",
    "    page = requests.get(URL)\n",
    "    soup = BeautifulSoup(page.content, \"html.parser\")\n",
    "\n",
    "    title = soup.title.text\n",
    "    if title.startswith(\"Page not found\"):\n",
    "        return []\n",
    "\n",
    "    startlist_table = soup.find_all(\"table\", class_ = \"basic\")[0]\n",
    "    rows = startlist_table.find(\"tbody\").find_all(\"tr\")\n",
    "\n",
    "    startlist = []\n",
    "\n",
    "    for i, row in enumerate(rows):\n",
    "        cols = row.find_all(\"td\")\n",
    "        startlist.append(cols[1].text.strip())\n",
    "\n",
    "    return startlist"
   ]
  },
  {
   "cell_type": "code",
   "execution_count": 119,
   "metadata": {},
   "outputs": [],
   "source": [
    "RIDERS = pd.read_csv(\"../data/riders.csv\")\n",
    "RIDER_TEAMS = pd.read_csv(\"../data/rider_teams.csv\")\n",
    "MANAGERS = pd.read_csv(\"../data/managers.csv\")\n",
    "MANAGER_TEAMS = pd.read_csv(\"../data/manager_teams.csv\")\n",
    "MANAGER_CHEAPO_TEAMS = pd.read_csv(\"../data/manager_cheapo_teams.csv\")\n",
    "POINTS_SYSTEM = pd.read_csv(\"../data/points_system.csv\")\n",
    "RACES = pd.read_csv(\"../data/races.csv\")\n",
    "RESULTS_2023 = pd.read_csv(\"../data/results/results_2023_full.csv\")\n",
    "RESULTS_2024 = pd.read_csv(\"../data/results/results_2024_full.csv\")\n",
    "RESULTS_2025 = pd.read_csv(\"../data/results/results_2025_full.csv\")\n",
    "CHEAPO_BANS = pd.read_csv(\"../data/cheapo_bans.csv\")\n",
    "startlist = get_startlist(\"a\")"
   ]
  },
  {
   "cell_type": "code",
   "execution_count": 120,
   "metadata": {},
   "outputs": [],
   "source": [
    "TEAMS_OVERVIEW = pd.merge(MANAGER_TEAMS, RIDERS, how = \"left\", left_on = \"RiderName\", right_on = \"RiderName_Zweeler\")\n",
    "TEAMS_OVERVIEW = TEAMS_OVERVIEW[[\"ManagerName\", \"RiderName_PCS\", \"RiderPrice\"]]\n",
    "\n",
    "def pad_price(price, name):\n",
    "    padded_price = (\"000000\" + str(price))[::-1][0:5][::-1]\n",
    "    name_added_price = padded_price + name\n",
    "    return name_added_price\n",
    "\n",
    "TEAMS_OVERVIEW[\"RankCol\"] = TEAMS_OVERVIEW.apply(lambda row: pad_price(row[\"RiderPrice\"], row[\"RiderName_PCS\"]), axis = 1)\n",
    "TEAMS_OVERVIEW[\"TeamRank\"] = (TEAMS_OVERVIEW.groupby(\"ManagerName\")[\"RankCol\"].rank(method = \"dense\", ascending = False).astype(int))\n",
    "\n",
    "nums = list(TEAMS_OVERVIEW[\"TeamRank\"].unique())\n",
    "nums.sort()\n",
    "OVERVIEW = pd.DataFrame(nums, columns = [\"Rank\"])\n",
    "\n",
    "def get_rider(manager, rank):\n",
    "    R = TEAMS_OVERVIEW.loc[(TEAMS_OVERVIEW[\"ManagerName\"] == manager) & (TEAMS_OVERVIEW[\"TeamRank\"] == rank)]\n",
    "    return list(R[\"RiderName_PCS\"].unique())[0]\n",
    "\n",
    "ms = list(TEAMS_OVERVIEW[\"ManagerName\"].unique())\n",
    "\n",
    "for m in ms:\n",
    "    OVERVIEW[m] = OVERVIEW.apply(lambda row: get_rider(m, row[\"Rank\"]), axis = 1)\n",
    "\n",
    "\n",
    "txt = OVERVIEW.to_html()"
   ]
  },
  {
   "cell_type": "code",
   "execution_count": 121,
   "metadata": {},
   "outputs": [],
   "source": [
    "for rider in startlist:\n",
    "    txt.replace(\"<td>\" + rider + \"</td>\", \"<td class=\"\"startlist>\" + rider + \"</td\")\n",
    "\n",
    "with open(\"../Løbsstartlister/Volta.md\", \"w\") as file:\n",
    "    file.write(txt)"
   ]
  }
 ],
 "metadata": {
  "kernelspec": {
   "display_name": "Python 3",
   "language": "python",
   "name": "python3"
  },
  "language_info": {
   "codemirror_mode": {
    "name": "ipython",
    "version": 3
   },
   "file_extension": ".py",
   "mimetype": "text/x-python",
   "name": "python",
   "nbconvert_exporter": "python",
   "pygments_lexer": "ipython3",
   "version": "3.10.12"
  }
 },
 "nbformat": 4,
 "nbformat_minor": 2
}
