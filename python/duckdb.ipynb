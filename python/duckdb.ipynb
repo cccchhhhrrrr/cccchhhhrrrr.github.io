{
 "cells": [
  {
   "cell_type": "code",
   "execution_count": 41,
   "metadata": {},
   "outputs": [],
   "source": [
    "#!pip install jupysql pandas matplotlib duckdb-engine duckdb"
   ]
  },
  {
   "cell_type": "code",
   "execution_count": 42,
   "metadata": {},
   "outputs": [
    {
     "name": "stdout",
     "output_type": "stream",
     "text": [
      "The sql extension is already loaded. To reload it, use:\n",
      "  %reload_ext sql\n"
     ]
    }
   ],
   "source": [
    "import duckdb\n",
    "import pandas as pd\n",
    "\n",
    "%load_ext sql\n",
    "%sql duckdb:///:memory:"
   ]
  },
  {
   "cell_type": "code",
   "execution_count": 43,
   "metadata": {},
   "outputs": [
    {
     "data": {
      "text/html": [
       "<span style=\"None\">Running query in &#x27;duckdb:///:memory:&#x27;</span>"
      ],
      "text/plain": [
       "Running query in 'duckdb:///:memory:'"
      ]
     },
     "metadata": {},
     "output_type": "display_data"
    },
    {
     "name": "stderr",
     "output_type": "stream",
     "text": [
      "RuntimeError: (duckdb.duckdb.CatalogException) Catalog Error: Table with name \"Riders\" already exists!\n",
      "[SQL: CREATE TABLE Riders             AS FROM \"../data/riders.csv\";]\n",
      "(Background on this error at: https://sqlalche.me/e/20/f405)\n",
      "If you need help solving this issue, send us a message: https://ploomber.io/community\n"
     ]
    }
   ],
   "source": [
    "%%sql\n",
    "CREATE TABLE Riders             AS FROM \"../data/riders.csv\";\n",
    "CREATE TABLE RiderTeams         AS FROM \"../data/rider_teams.csv\";\n",
    "CREATE TABLE Managers           AS FROM \"../data/managers.csv\";\n",
    "CREATE TABLE ManagerTeams       AS FROM \"../data/manager_teams.csv\";\n",
    "CREATE TABLE ManagerTeamsCheapo AS FROM \"../data/manager_cheapo_teams.csv\";\n",
    "CREATE TABLE PointsSystem       AS FROM \"../data/points_system.csv\";\n",
    "CREATE TABLE Races              AS FROM \"../data/races.csv\";\n",
    "CREATE TABLE Results_2023       AS FROM \"../data/results/results_2023_full.csv\";\n",
    "CREATE TABLE Results_2024       AS FROM \"../data/results/results_2024_full.csv\";\n",
    "CREATE TABLE Results_2025       AS FROM \"../data/results/results_2025_full.csv\";\n",
    "CREATE TABLE CheapoBans         AS FROM \"../data/cheapo_bans.csv\";"
   ]
  },
  {
   "cell_type": "code",
   "execution_count": 53,
   "metadata": {},
   "outputs": [
    {
     "data": {
      "text/html": [
       "<span style=\"None\">Running query in &#x27;duckdb:///:memory:&#x27;</span>"
      ],
      "text/plain": [
       "Running query in 'duckdb:///:memory:'"
      ]
     },
     "metadata": {},
     "output_type": "display_data"
    },
    {
     "data": {
      "text/html": [
       "<table>\n",
       "    <thead>\n",
       "        <tr>\n",
       "            <th>RACE</th>\n",
       "            <th>RaceName</th>\n",
       "            <th>RaceCategory</th>\n",
       "            <th>YEAR</th>\n",
       "            <th>STAGE_ID</th>\n",
       "            <th>STAGE_DATE</th>\n",
       "            <th>RiderName_PCS</th>\n",
       "            <th>RiderName_Zweeler</th>\n",
       "            <th>RANK</th>\n",
       "            <th>Points</th>\n",
       "            <th>CheapoPoints</th>\n",
       "        </tr>\n",
       "    </thead>\n",
       "    <tbody>\n",
       "        <tr>\n",
       "            <td>tour-down-under</td>\n",
       "            <td>Tour Down Under</td>\n",
       "            <td>Tour Cat. 2</td>\n",
       "            <td>2025</td>\n",
       "            <td>stage-1</td>\n",
       "            <td>2025-01-21</td>\n",
       "            <td>Welsford Sam</td>\n",
       "            <td>Welsford, Sam</td>\n",
       "            <td>1</td>\n",
       "            <td>25.0</td>\n",
       "            <td>None</td>\n",
       "        </tr>\n",
       "        <tr>\n",
       "            <td>tour-down-under</td>\n",
       "            <td>Tour Down Under</td>\n",
       "            <td>Tour Cat. 2</td>\n",
       "            <td>2025</td>\n",
       "            <td>stage-2</td>\n",
       "            <td>2025-01-22</td>\n",
       "            <td>Welsford Sam</td>\n",
       "            <td>Welsford, Sam</td>\n",
       "            <td>1</td>\n",
       "            <td>25.0</td>\n",
       "            <td>None</td>\n",
       "        </tr>\n",
       "        <tr>\n",
       "            <td>tour-down-under</td>\n",
       "            <td>Tour Down Under</td>\n",
       "            <td>Tour Cat. 2</td>\n",
       "            <td>2025</td>\n",
       "            <td>stage-6</td>\n",
       "            <td>2025-01-26</td>\n",
       "            <td>Welsford Sam</td>\n",
       "            <td>Welsford, Sam</td>\n",
       "            <td>1</td>\n",
       "            <td>25.0</td>\n",
       "            <td>None</td>\n",
       "        </tr>\n",
       "        <tr>\n",
       "            <td>uae-tour</td>\n",
       "            <td>UAE Tour</td>\n",
       "            <td>Tour Cat. 2</td>\n",
       "            <td>2025</td>\n",
       "            <td>stage-5</td>\n",
       "            <td>2025-02-21</td>\n",
       "            <td>Welsford Sam</td>\n",
       "            <td>Welsford, Sam</td>\n",
       "            <td>4</td>\n",
       "            <td>14.0</td>\n",
       "            <td>14.0</td>\n",
       "        </tr>\n",
       "        <tr>\n",
       "            <td>uae-tour</td>\n",
       "            <td>UAE Tour</td>\n",
       "            <td>Tour Cat. 2</td>\n",
       "            <td>2025</td>\n",
       "            <td>stage-6</td>\n",
       "            <td>2025-02-22</td>\n",
       "            <td>Welsford Sam</td>\n",
       "            <td>Welsford, Sam</td>\n",
       "            <td>9</td>\n",
       "            <td>4.0</td>\n",
       "            <td>4.0</td>\n",
       "        </tr>\n",
       "    </tbody>\n",
       "</table>"
      ],
      "text/plain": [
       "+-----------------+-----------------+--------------+------+----------+------------+---------------+-------------------+------+--------+--------------+\n",
       "|       RACE      |     RaceName    | RaceCategory | YEAR | STAGE_ID | STAGE_DATE | RiderName_PCS | RiderName_Zweeler | RANK | Points | CheapoPoints |\n",
       "+-----------------+-----------------+--------------+------+----------+------------+---------------+-------------------+------+--------+--------------+\n",
       "| tour-down-under | Tour Down Under | Tour Cat. 2  | 2025 | stage-1  | 2025-01-21 |  Welsford Sam |   Welsford, Sam   |  1   |  25.0  |     None     |\n",
       "| tour-down-under | Tour Down Under | Tour Cat. 2  | 2025 | stage-2  | 2025-01-22 |  Welsford Sam |   Welsford, Sam   |  1   |  25.0  |     None     |\n",
       "| tour-down-under | Tour Down Under | Tour Cat. 2  | 2025 | stage-6  | 2025-01-26 |  Welsford Sam |   Welsford, Sam   |  1   |  25.0  |     None     |\n",
       "|     uae-tour    |     UAE Tour    | Tour Cat. 2  | 2025 | stage-5  | 2025-02-21 |  Welsford Sam |   Welsford, Sam   |  4   |  14.0  |     14.0     |\n",
       "|     uae-tour    |     UAE Tour    | Tour Cat. 2  | 2025 | stage-6  | 2025-02-22 |  Welsford Sam |   Welsford, Sam   |  9   |  4.0   |     4.0      |\n",
       "+-----------------+-----------------+--------------+------+----------+------------+---------------+-------------------+------+--------+--------------+"
      ]
     },
     "execution_count": 53,
     "metadata": {},
     "output_type": "execute_result"
    }
   ],
   "source": [
    "%%sql\n",
    "CREATE OR REPLACE TABLE RaceResultsPoints AS\n",
    "SELECT\n",
    "     results.Race\n",
    "    ,races.RaceName\n",
    "    ,races.RaceCategory\n",
    "    ,results.Year\n",
    "    ,results.Stage_ID\n",
    "    ,results.Stage_Date\n",
    "    ,results.Rider AS RiderName_PCS\n",
    "    ,riders.RiderName_Zweeler\n",
    "    ,results.Rank\n",
    "    ,points.RacePoints AS Points\n",
    "    ,CASE WHEN races.RaceName = 'Tour Down Under' THEN NULL Else points.RacePoints END AS CheapoPoints\n",
    "FROM Results_2025 results\n",
    "INNER JOIN Races races ON races.RaceName_PCS = results.Race\n",
    "INNER JOIN Riders riders ON riders.RiderName_PCS = results.Rider\n",
    "INNER JOIN PointsSystem points ON 1 = 1\n",
    "    AND points.RaceRank = TRY_CAST(results.Rank AS INTEGER) \n",
    "    AND CASE WHEN results.Stage_ID LIKE '%stage%' THEN REPLACE(races.RaceCategory, 'Tour', 'Stage') ELSE races.RaceCategory END = points.RaceCategory\n",
    "WHERE 1 = 1\n",
    "    AND results.Stage_Type <> 'TTT';\n",
    "\n",
    "SELECT *\n",
    "FROM RaceResultsPoints\n",
    "WHERE RiderName_PCS LIKE '%Welsford%';"
   ]
  },
  {
   "cell_type": "code",
   "execution_count": 55,
   "metadata": {},
   "outputs": [
    {
     "data": {
      "text/html": [
       "<span style=\"None\">Running query in &#x27;duckdb:///:memory:&#x27;</span>"
      ],
      "text/plain": [
       "Running query in 'duckdb:///:memory:'"
      ]
     },
     "metadata": {},
     "output_type": "display_data"
    },
    {
     "name": "stderr",
     "output_type": "stream",
     "text": [
      "RuntimeError: If using snippets, you may pass the --with argument explicitly.\n",
      "For more details please refer: https://jupysql.ploomber.io/en/latest/compose.html#with-argument\n",
      "\n",
      "\n",
      "Original error message from DB driver:\n",
      "(duckdb.duckdb.BinderException) Binder Error: Referenced column \"Rider\" not found in FROM clause!\n",
      "Candidate bindings: \"RiderName_PCS\", \"RiderName_Zweeler\", \"RaceName\", \"RaceCategory\"\n",
      "\n",
      "LINE 3: WHERE Rider LIKE '%Onley%'\n",
      "              ^\n",
      "[SQL: SELECT *\n",
      "FROM RaceResultsPoints\n",
      "WHERE Rider LIKE '%Onley%']\n",
      "(Background on this error at: https://sqlalche.me/e/20/f405)\n",
      "\n",
      "If you need help solving this issue, send us a message: https://ploomber.io/community\n"
     ]
    }
   ],
   "source": [
    "%%sql\n",
    "SELECT *\n",
    "FROM RaceResultsPoints\n",
    "WHERE Rider LIKE '%Onley%'"
   ]
  },
  {
   "cell_type": "code",
   "execution_count": null,
   "metadata": {},
   "outputs": [],
   "source": [
    "    "
   ]
  }
 ],
 "metadata": {
  "kernelspec": {
   "display_name": "Python 3",
   "language": "python",
   "name": "python3"
  },
  "language_info": {
   "codemirror_mode": {
    "name": "ipython",
    "version": 3
   },
   "file_extension": ".py",
   "mimetype": "text/x-python",
   "name": "python",
   "nbconvert_exporter": "python",
   "pygments_lexer": "ipython3",
   "version": "3.10.12"
  }
 },
 "nbformat": 4,
 "nbformat_minor": 2
}
