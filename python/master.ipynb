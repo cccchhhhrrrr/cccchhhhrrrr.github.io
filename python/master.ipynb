{
 "cells": [
  {
   "cell_type": "code",
   "execution_count": 5,
   "metadata": {},
   "outputs": [
    {
     "name": "stdout",
     "output_type": "stream",
     "text": [
      "SCRAPING RESULTS\n",
      "5 https://www.procyclingstats.com/race/tour-cycliste-international-la-provence/2025\n",
      "/stage-1\n",
      "=============\n",
      "/stage-2\n",
      "=============\n",
      "/stage-3\n",
      "=============\n",
      "/gc\n",
      "=============\n",
      "6 https://www.procyclingstats.com/race/clasica-de-almeria/2025\n",
      "/result\n",
      "=============\n",
      "7 https://www.procyclingstats.com/race/uae-tour/2025\n",
      "/stage-1\n",
      "=============\n",
      "/stage-2\n",
      "=============\n",
      "/stage-3\n",
      "=============\n",
      "/stage-4\n",
      "=============\n",
      "/stage-5\n",
      "=============\n",
      "/stage-6\n",
      "=============\n",
      "/stage-7\n",
      "=============\n",
      "/gc\n",
      "=============\n",
      "\n",
      "SCRAPING STARTLISTS\n",
      "DONE: 2025-02-14 Tour de La Provence\n",
      "DONE: 2025-02-16 Clásica de Almería\n",
      "DONE: 2025-02-17 UAE Tour\n",
      "DONE: 2025-02-19 Vuelta a Andalucía\n",
      "DONE: 2025-02-19 Volta ao Algarve\n",
      "DONE: 2025-02-26 O Gran Camiño\n",
      "DONE: 2025-03-01 Omloop Het Nieuwsblad\n",
      "DONE: 2025-03-02 Kuurne-Brussel-Kuurne\n",
      "DONE: 2025-03-04 Ename Samyn Classic\n",
      "DONE: 2025-03-05 Trofeo Laigueglia\n",
      "DONE: 2025-03-08 Strade Bianche\n",
      "DONE: 2025-03-09 Paris-Nice\n",
      "DONE: 2025-03-10 Tirreno-Adriatico\n",
      "\n",
      "MAKING DATA\n",
      "\n",
      "CREATING SITES\n"
     ]
    }
   ],
   "source": [
    "print(\"SCRAPING RESULTS\")\n",
    "%run -n ./scraper.ipynb\n",
    "\n",
    "print()\n",
    "print(\"SCRAPING STARTLISTS\")\n",
    "%run ./scraper_startlists.ipynb\n",
    "\n",
    "print()\n",
    "print(\"MAKING DATA\")\n",
    "%run ./datamaker.ipynb\n",
    "\n",
    "print()\n",
    "print(\"CREATING SITES\")\n",
    "%run ./sitegenerator.ipynb"
   ]
  },
  {
   "cell_type": "code",
   "execution_count": 9,
   "metadata": {},
   "outputs": [
    {
     "name": "stdout",
     "output_type": "stream",
     "text": [
      "\n",
      "GH-DEPLOY\n",
      "INFO    -  Cleaning site directory\n",
      "INFO    -  Building documentation to directory:\n",
      "           /home/christian/Documents/cccchhhhrrrr.github.io/site\n",
      "INFO    -  Documentation built in 3.90 seconds\n",
      "INFO    -  Copying '/home/christian/Documents/cccchhhhrrrr.github.io/site' to\n",
      "           'gh-pages' branch and pushing to GitHub.\n",
      "Username for 'https://github.com': \n",
      "Aborted!\n",
      "^C\n"
     ]
    }
   ],
   "source": [
    "print()\n",
    "print(\"GH-DEPLOY\")\n",
    "!( cd .. ; cd .. ; mkdocs gh-deploy --force; exit )"
   ]
  }
 ],
 "metadata": {
  "kernelspec": {
   "display_name": "Python 3",
   "language": "python",
   "name": "python3"
  },
  "language_info": {
   "codemirror_mode": {
    "name": "ipython",
    "version": 3
   },
   "file_extension": ".py",
   "mimetype": "text/x-python",
   "name": "python",
   "nbconvert_exporter": "python",
   "pygments_lexer": "ipython3",
   "version": "3.10.12"
  }
 },
 "nbformat": 4,
 "nbformat_minor": 2
}
