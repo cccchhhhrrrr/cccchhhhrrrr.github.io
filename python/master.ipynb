{
 "cells": [
  {
   "cell_type": "code",
   "execution_count": 1,
   "metadata": {},
   "outputs": [
    {
     "name": "stdout",
     "output_type": "stream",
     "text": [
      "SCRAPING RESULTS\n",
      "43 https://www.procyclingstats.com/race/tour-de-france/2025\n",
      "/stage-1\n",
      "=============\n",
      "/stage-2\n",
      "=============\n",
      "/stage-3\n",
      "=============\n",
      "/stage-4\n",
      "=============\n",
      "/stage-5\n",
      "=============\n",
      "/stage-6\n",
      "=============\n",
      "/stage-7\n",
      "=============\n",
      "/stage-8\n",
      "=============\n",
      "/stage-9\n",
      "=============\n",
      "/stage-10\n",
      "=============\n",
      "/stage-11\n",
      "=============\n",
      "/stage-12\n",
      "=============\n",
      "/stage-13\n",
      "=============\n",
      "/stage-14\n",
      "=============\n",
      "/stage-15\n",
      "=============\n",
      "/stage-16\n",
      "=============\n",
      "/stage-17\n",
      "=============\n",
      "/stage-18\n",
      "=============\n",
      "/stage-19\n",
      "=============\n",
      "/stage-20\n",
      "=============\n",
      "/stage-21\n",
      "=============\n",
      "/gc\n",
      "=============\n",
      "\n",
      "SCRAPING STARTLISTS\n",
      "DONE: 2025-07-05 Tour de France\n",
      "DONE: 2025-08-02 Clásica San Sebastián\n",
      "DONE: 2025-08-04 Tour de Pologne\n",
      "DONE: 2025-08-05 Vuelta a Burgos\n",
      "DONE: 2025-08-17 BEMER Cyclassics\n",
      "DONE: 2025-08-20 Renewi Tour\n",
      "DONE: 2025-08-20 Deutschland Tour\n",
      "DONE: 2025-08-23 Vuelta a España\n",
      "DONE: 2025-08-31 Bretagne Classic - Ouest-France\n",
      "DONE: 2025-09-02 Tour of Britain\n",
      "DONE: 2025-09-12 Grand Prix Cycliste de Québec\n",
      "DONE: 2025-09-14 Grand Prix Cycliste de Montréal\n",
      "DONE: 2025-09-17 Tour de Luxembourg\n",
      "DONE: 2025-09-17 Grand Prix de Wallonie\n",
      "DONE: 2025-09-20 SUPER 8 Classic\n",
      "DONE: 2025-09-21 World Championships Time Trial\n",
      "\n",
      "MAKING DATA\n",
      "\n",
      "DUCKDB DATA\n"
     ]
    },
    {
     "data": {
      "text/html": [
       "<span style=\"None\">Connecting to &#x27;duckdb:///:memory:&#x27;</span>"
      ],
      "text/plain": [
       "Connecting to 'duckdb:///:memory:'"
      ]
     },
     "metadata": {},
     "output_type": "display_data"
    },
    {
     "name": "stdout",
     "output_type": "stream",
     "text": [
      "\n",
      "CREATING SITES\n"
     ]
    }
   ],
   "source": [
    "print(\"SCRAPING RESULTS\")\n",
    "%run -n ./scraper.ipynb\n",
    "\n",
    "print()\n",
    "print(\"SCRAPING STARTLISTS\")\n",
    "%run ./scraper_startlists.ipynb\n",
    "\n",
    "print()\n",
    "print(\"MAKING DATA\")\n",
    "%run ./datamaker.ipynb\n",
    "\n",
    "print()\n",
    "print(\"DUCKDB DATA\")\n",
    "%run ./duckdb_to_site.ipynb\n",
    "\n",
    "print()\n",
    "print(\"CREATING SITES\")\n",
    "%run ./sitegenerator.ipynb"
   ]
  }
 ],
 "metadata": {
  "kernelspec": {
   "display_name": "Python 3",
   "language": "python",
   "name": "python3"
  },
  "language_info": {
   "codemirror_mode": {
    "name": "ipython",
    "version": 3
   },
   "file_extension": ".py",
   "mimetype": "text/x-python",
   "name": "python",
   "nbconvert_exporter": "python",
   "pygments_lexer": "ipython3",
   "version": "3.10.12"
  }
 },
 "nbformat": 4,
 "nbformat_minor": 2
}
