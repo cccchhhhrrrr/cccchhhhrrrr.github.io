{
 "cells": [
  {
   "cell_type": "code",
   "execution_count": 3,
   "metadata": {},
   "outputs": [
    {
     "name": "stdout",
     "output_type": "stream",
     "text": [
      "SCRAPING RESULTS\n",
      "33 https://www.procyclingstats.com/race/tour-of-the-alps/2025\n",
      "/stage-1\n",
      "=============\n",
      "/stage-2\n",
      "=============\n",
      "/stage-3\n",
      "=============\n",
      "/stage-4\n",
      "=============\n",
      "/stage-5\n",
      "=============\n",
      "/gc\n",
      "=============\n",
      "34 https://www.procyclingstats.com/race/la-fleche-wallone/2025\n",
      "/result\n",
      "=============\n",
      "35 https://www.procyclingstats.com/race/liege-bastogne-liege/2025\n",
      "/result\n",
      "=============\n",
      "\n",
      "SCRAPING STARTLISTS\n",
      "DONE: 2025-04-27 Liège-Bastogne-Liège\n",
      "DONE: 2025-04-29 Tour de Romandie\n",
      "DONE: 2025-05-01 Eschborn-Frankfurt\n",
      "\n",
      "MAKING DATA\n",
      "\n",
      "DUCKDB DATA\n",
      "The sql extension is already loaded. To reload it, use:\n",
      "  %reload_ext sql\n",
      "\n",
      "CREATING SITES\n"
     ]
    }
   ],
   "source": [
    "print(\"SCRAPING RESULTS\")\n",
    "%run -n ./scraper.ipynb\n",
    "\n",
    "print()\n",
    "print(\"SCRAPING STARTLISTS\")\n",
    "%run ./scraper_startlists.ipynb\n",
    "\n",
    "print()\n",
    "print(\"MAKING DATA\")\n",
    "%run ./datamaker.ipynb\n",
    "\n",
    "print()\n",
    "print(\"DUCKDB DATA\")\n",
    "%run ./duckdb_to_site.ipynb\n",
    "\n",
    "print()\n",
    "print(\"CREATING SITES\")\n",
    "%run ./sitegenerator.ipynb"
   ]
  }
 ],
 "metadata": {
  "kernelspec": {
   "display_name": "Python 3",
   "language": "python",
   "name": "python3"
  },
  "language_info": {
   "codemirror_mode": {
    "name": "ipython",
    "version": 3
   },
   "file_extension": ".py",
   "mimetype": "text/x-python",
   "name": "python",
   "nbconvert_exporter": "python",
   "pygments_lexer": "ipython3",
   "version": "3.10.12"
  }
 },
 "nbformat": 4,
 "nbformat_minor": 2
}
