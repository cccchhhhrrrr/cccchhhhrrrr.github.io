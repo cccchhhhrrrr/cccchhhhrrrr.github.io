{
 "cells": [
  {
   "cell_type": "code",
   "execution_count": 3,
   "metadata": {},
   "outputs": [
    {
     "name": "stdout",
     "output_type": "stream",
     "text": [
      "SCRAPING RESULTS\n",
      "28 https://www.procyclingstats.com/race/itzulia-basque-country/2025\n",
      "/stage-1\n",
      "=============\n",
      "/stage-2\n",
      "=============\n",
      "/stage-3\n",
      "=============\n",
      "/stage-4\n",
      "=============\n",
      "/stage-5\n",
      "=============\n",
      "/stage-6\n",
      "=============\n",
      "/gc\n",
      "=============\n",
      "29 https://www.procyclingstats.com/race/scheldeprijs/2025\n",
      "/result\n",
      "=============\n",
      "\n",
      "SCRAPING STARTLISTS\n",
      "DONE: 2025-04-07 Itzulia Basque Country\n",
      "DONE: 2025-04-09 Scheldeprijs\n",
      "DONE: 2025-04-13 Paris-Roubaix\n",
      "DONE: 2025-04-18 De Brabantse Pijl\n",
      "DONE: 2025-04-20 Amstel Gold Race\n",
      "DONE: 2025-04-23 La Flèche Wallonne\n",
      "\n",
      "MAKING DATA\n",
      "\n",
      "DUCKDB DATA\n",
      "The sql extension is already loaded. To reload it, use:\n",
      "  %reload_ext sql\n",
      "\n",
      "CREATING SITES\n"
     ]
    }
   ],
   "source": [
    "print(\"SCRAPING RESULTS\")\n",
    "%run -n ./scraper.ipynb\n",
    "\n",
    "print()\n",
    "print(\"SCRAPING STARTLISTS\")\n",
    "%run ./scraper_startlists.ipynb\n",
    "\n",
    "print()\n",
    "print(\"MAKING DATA\")\n",
    "%run ./datamaker.ipynb\n",
    "\n",
    "print()\n",
    "print(\"DUCKDB DATA\")\n",
    "%run ./duckdb_to_site.ipynb\n",
    "\n",
    "print()\n",
    "print(\"CREATING SITES\")\n",
    "%run ./sitegenerator.ipynb"
   ]
  }
 ],
 "metadata": {
  "kernelspec": {
   "display_name": "Python 3",
   "language": "python",
   "name": "python3"
  },
  "language_info": {
   "codemirror_mode": {
    "name": "ipython",
    "version": 3
   },
   "file_extension": ".py",
   "mimetype": "text/x-python",
   "name": "python",
   "nbconvert_exporter": "python",
   "pygments_lexer": "ipython3",
   "version": "3.10.12"
  }
 },
 "nbformat": 4,
 "nbformat_minor": 2
}
