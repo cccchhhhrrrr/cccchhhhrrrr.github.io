{
 "cells": [
  {
   "cell_type": "code",
   "execution_count": 2,
   "metadata": {},
   "outputs": [],
   "source": [
    "import pandas as pd\n",
    "import math"
   ]
  },
  {
   "cell_type": "code",
   "execution_count": 3,
   "metadata": {},
   "outputs": [],
   "source": [
    "RIDERS = pd.read_csv(\"../data/riders.csv\")\n",
    "RIDER_TEAMS = pd.read_csv(\"../data/rider_teams.csv\")\n",
    "MANAGERS = pd.read_csv(\"../data/managers.csv\")\n",
    "MANAGER_TEAMS = pd.read_csv(\"../data/manager_teams.csv\")\n",
    "POINTS_SYSTEM = pd.read_csv(\"../data/points_system.csv\")\n",
    "RACES = pd.read_csv(\"../data/races.csv\")\n",
    "RESULTS_2023 = pd.read_csv(\"../data/results/results_2023_full.csv\")\n",
    "RESULTS_2024 = pd.read_csv(\"../data/results/results_2024_full.csv\")\n",
    "RESULTS_2025 = pd.read_csv(\"../data/results/results_2025_full.csv\")\n",
    "CHEAPO_BANS = pd.read_csv(\"../data/cheapo_bans.csv\")"
   ]
  },
  {
   "cell_type": "code",
   "execution_count": 4,
   "metadata": {},
   "outputs": [],
   "source": [
    "# Riders owned by\n",
    "RIDERS_OWNED_BY = MANAGER_TEAMS.groupby([\"RiderName\"])[\"ManagerName\"].apply(\", \".join).reset_index()\n",
    "\n",
    "# Race categories\n",
    "RACE_CATEGORIES = RACES[[\"RaceName_PCS\", \"RaceCategory\"]]\n",
    "\n",
    "# Relevant results\n",
    "RESULTS_POINTS = RESULTS_2025[[\"RACE\", \"STAGE_ID\", \"STAGE_TYPE\", \"RANK\", \"RIDER\"]]\n",
    "RESULTS_POINTS = RESULTS_POINTS.rename(columns = {\n",
    "    \"RACE\": \"RaceName\",\n",
    "    \"STAGE_ID\": \"StageID\",\n",
    "    \"STAGE_TYPE\": \"StageType\",\n",
    "    \"RANK\": \"Rank\",\n",
    "    \"RIDER\": \"RiderName\"\n",
    "})\n",
    "RESULTS_POINTS = RESULTS_POINTS.dropna(subset = [\"StageID\"])\n",
    "RESULTS_POINTS = RESULTS_POINTS.loc[RESULTS_POINTS[\"StageType\"] != \"TTT\"]\n",
    "\n",
    "def convert_to_int(row):\n",
    "    if row.isdigit():\n",
    "        return int(row)\n",
    "    else:\n",
    "        return 0\n",
    "    \n",
    "def stage_or_gcresult(stage_id, race_category):\n",
    "    if stage_id.startswith(\"stage\"):\n",
    "        return race_category.replace(\"Tour \", \"Stage \")\n",
    "    else:\n",
    "        return race_category    \n",
    "\n",
    "RESULTS_POINTS = pd.merge(RESULTS_POINTS, RACE_CATEGORIES, how = \"inner\", left_on = [\"RaceName\"], right_on = [\"RaceName_PCS\"])\n",
    "RESULTS_POINTS[\"Rank\"] = RESULTS_POINTS.apply(lambda row: convert_to_int(row[\"Rank\"]), axis = 1)\n",
    "RESULTS_POINTS[\"RaceCategory\"] = RESULTS_POINTS.apply(lambda row: stage_or_gcresult(row[\"StageID\"], row[\"RaceCategory\"]), axis = 1)\n",
    "RESULTS_POINTS = pd.merge(RESULTS_POINTS, POINTS_SYSTEM, how = \"left\", left_on = [\"RaceCategory\", \"Rank\"], right_on = [\"RaceCategory\", \"RaceRank\"])\n",
    "RESULTS_POINTS = pd.merge(RESULTS_POINTS, RIDERS, how = \"left\", left_on = [\"RiderName\"], right_on = [\"RiderName_PCS\"])\n",
    "\n",
    "# Rider points\n",
    "RIDER_POINTS = RESULTS_POINTS.groupby([\"RiderName_Zweeler\"])[\"RacePoints\"].sum().reset_index()\n",
    "\n",
    "# Rider racedays\n",
    "RIDER_RACEDAYS = RESULTS_POINTS.loc[RESULTS_POINTS[\"StageID\"] != \"gc\"]\n",
    "RIDER_RACEDAYS = RIDER_RACEDAYS.groupby([\"RiderName_Zweeler\"])[\"RiderName_Zweeler\"].count().rename(\"Racedays\").reset_index()"
   ]
  },
  {
   "cell_type": "code",
   "execution_count": 5,
   "metadata": {},
   "outputs": [],
   "source": [
    "RIDER_OUTPUT = RIDERS\n",
    "\n",
    "RIDER_OUTPUT = pd.merge(RIDER_OUTPUT, RIDER_RACEDAYS, how = \"left\", left_on = [\"RiderName_Zweeler\"], right_on = [\"RiderName_Zweeler\"])\n",
    "RIDER_OUTPUT = pd.merge(RIDER_OUTPUT, RIDER_POINTS, how = \"left\", left_on = [\"RiderName_Zweeler\"], right_on = [\"RiderName_Zweeler\"])\n",
    "RIDER_OUTPUT = pd.merge(RIDER_OUTPUT, RIDERS_OWNED_BY, how = \"left\", left_on = [\"RiderName_Zweeler\"], right_on = [\"RiderName\"])\n",
    "RIDER_OUTPUT = pd.merge(RIDER_OUTPUT, CHEAPO_BANS, how = \"left\", left_on = [\"RiderName_Zweeler\"], right_on = [\"RiderName\"])\n",
    "\n",
    "def ppm(points, millions):\n",
    "    if math.isnan(points):\n",
    "        return round(0, 2)\n",
    "    else:\n",
    "        return round(points / millions, 1)\n",
    "\n",
    "def float_to_int(row):\n",
    "    if math.isnan(row):\n",
    "        return 0\n",
    "    else:\n",
    "        return int(row)\n",
    "\n",
    "def cheapo_eligible(price, ban):\n",
    "    if price <= 2.5 and ban == \"\":\n",
    "        return \"Ja\"\n",
    "    else:\n",
    "        return \"\"\n",
    "\n",
    "RIDER_OUTPUT[\"PPM\"] = RIDER_OUTPUT.apply(lambda row: ppm(row[\"RacePoints\"], row[\"RiderPrice\"]), axis = 1)\n",
    "RIDER_OUTPUT.RiderName_y = RIDER_OUTPUT.RiderName_y.fillna(\"\")\n",
    "RIDER_OUTPUT[\"Cheapo\"] = RIDER_OUTPUT.apply(lambda row: cheapo_eligible(row[\"RiderPrice\"], row[\"RiderName_y\"]), axis = 1)\n",
    "RIDER_OUTPUT[\"RacePoints\"] = RIDER_OUTPUT.apply(lambda row: float_to_int(row[\"RacePoints\"]), axis = 1)\n",
    "RIDER_OUTPUT[\"Racedays\"] = RIDER_OUTPUT.apply(lambda row: float_to_int(row[\"Racedays\"]), axis = 1)\n",
    "RIDER_OUTPUT.ManagerName = RIDER_OUTPUT.ManagerName.fillna(\"\")\n",
    "\n",
    "RIDER_OUTPUT = RIDER_OUTPUT[[\"RiderName_Zweeler\", \"RiderTeam\", \"RiderPrice\", \"Racedays\", \"RacePoints\", \"PPM\", \"Cheapo\", \"ManagerName\"]]\n",
    "\n",
    "RIDER_OUTPUT = RIDER_OUTPUT.rename(columns = {\n",
    "    \"RiderName_Zweeler\": \"Navn\",\n",
    "    \"RiderTeam\": \"Hold\",\n",
    "    \"RiderPrice\": \"Pris\",\n",
    "    \"Racedays\": \"Løbsdage\",\n",
    "    \"RacePoints\": \"Point\",\n",
    "    \"PPM\": \"Profit\",\n",
    "    \"Cheapo\": \"Cheapo\",\n",
    "    \"ManagerName\": \"Managers\"\n",
    "})\n",
    "\n",
    "# Still need to add:\n",
    "# RACEDAYS TOTAL (Number from PCS)\n",
    "# Points 2024 (calculated)\n",
    "# Picked by number in game (need to scrape from Zweeler)"
   ]
  },
  {
   "cell_type": "code",
   "execution_count": 6,
   "metadata": {},
   "outputs": [],
   "source": [
    "TEAMS_WITH_POINTS = pd.merge(MANAGER_TEAMS, RIDER_OUTPUT, how = \"left\", left_on = \"RiderName\", right_on = \"Navn\")\n",
    "STANDINGS = TEAMS_WITH_POINTS.groupby([\"ManagerName\"])[[\"Pris\", \"Løbsdage\", \"Point\"]].sum().reset_index()\n",
    "STANDINGS[\"Point per løbsdag\"] = round(STANDINGS[\"Point\"] / STANDINGS[\"Løbsdage\"], 2)"
   ]
  },
  {
   "cell_type": "code",
   "execution_count": 8,
   "metadata": {},
   "outputs": [],
   "source": [
    "RIDER_OUTPUT.to_html(\"../outputtables/RytteroversigtTabel.html\", table_id = \"filterabletable\", index = False)\n"
   ]
  }
 ],
 "metadata": {
  "kernelspec": {
   "display_name": "Python 3",
   "language": "python",
   "name": "python3"
  },
  "language_info": {
   "codemirror_mode": {
    "name": "ipython",
    "version": 3
   },
   "file_extension": ".py",
   "mimetype": "text/x-python",
   "name": "python",
   "nbconvert_exporter": "python",
   "pygments_lexer": "ipython3",
   "version": "3.10.12"
  }
 },
 "nbformat": 4,
 "nbformat_minor": 2
}
