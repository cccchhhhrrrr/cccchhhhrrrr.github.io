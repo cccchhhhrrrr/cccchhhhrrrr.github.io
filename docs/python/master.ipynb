{
 "cells": [
  {
   "cell_type": "code",
   "execution_count": 2,
   "metadata": {},
   "outputs": [
    {
     "name": "stdout",
     "output_type": "stream",
     "text": [
      "SCRAPING RESULTS\n",
      "38 https://www.procyclingstats.com/race/giro-d-italia/2025\n",
      "/stage-1\n",
      "=============\n",
      "/stage-2\n",
      "=============\n",
      "/stage-3\n",
      "=============\n",
      "/stage-4\n",
      "=============\n",
      "/stage-5\n",
      "=============\n",
      "/stage-6\n",
      "=============\n",
      "/stage-7\n",
      "=============\n",
      "/stage-8\n",
      "=============\n",
      "/stage-9\n",
      "=============\n",
      "/stage-10\n",
      "=============\n",
      "/stage-11\n",
      "=============\n",
      "/stage-12\n",
      "=============\n",
      "/stage-13\n",
      "=============\n",
      "/stage-14\n",
      "=============\n",
      "/stage-15\n",
      "=============\n",
      "/stage-16\n",
      "=============\n",
      "/stage-17\n",
      "=============\n",
      "/stage-18\n",
      "=============\n",
      "/stage-19\n",
      "=============\n",
      "/stage-20\n",
      "=============\n",
      "/stage-21\n",
      "=============\n",
      "/gc\n",
      "=============\n",
      "\n",
      "SCRAPING STARTLISTS\n",
      "DONE: 2025-05-09 Giro d'Italia\n",
      "DONE: 2025-06-08 Critérium du Dauphiné\n",
      "DONE: 2025-06-15 Tour de Suisse\n",
      "DONE: 2025-06-18 Baloise Belgium Tour\n",
      "DONE: 2025-06-22 Copenhagen Sprint\n",
      "\n",
      "MAKING DATA\n",
      "\n",
      "DUCKDB DATA\n",
      "The sql extension is already loaded. To reload it, use:\n",
      "  %reload_ext sql\n",
      "\n",
      "CREATING SITES\n"
     ]
    }
   ],
   "source": [
    "print(\"SCRAPING RESULTS\")\n",
    "%run -n ./scraper.ipynb\n",
    "\n",
    "print()\n",
    "print(\"SCRAPING STARTLISTS\")\n",
    "%run ./scraper_startlists.ipynb\n",
    "\n",
    "print()\n",
    "print(\"MAKING DATA\")\n",
    "%run ./datamaker.ipynb\n",
    "\n",
    "print()\n",
    "print(\"DUCKDB DATA\")\n",
    "%run ./duckdb_to_site.ipynb\n",
    "\n",
    "print()\n",
    "print(\"CREATING SITES\")\n",
    "%run ./sitegenerator.ipynb"
   ]
  },
  {
   "cell_type": "code",
   "execution_count": null,
   "metadata": {},
   "outputs": [],
   "source": []
  }
 ],
 "metadata": {
  "kernelspec": {
   "display_name": "Python 3",
   "language": "python",
   "name": "python3"
  },
  "language_info": {
   "codemirror_mode": {
    "name": "ipython",
    "version": 3
   },
   "file_extension": ".py",
   "mimetype": "text/x-python",
   "name": "python",
   "nbconvert_exporter": "python",
   "pygments_lexer": "ipython3",
   "version": "3.10.12"
  }
 },
 "nbformat": 4,
 "nbformat_minor": 2
}
