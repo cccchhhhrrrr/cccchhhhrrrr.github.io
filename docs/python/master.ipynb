{
 "cells": [
  {
   "cell_type": "code",
   "execution_count": 1,
   "metadata": {},
   "outputs": [
    {
     "name": "stdout",
     "output_type": "stream",
     "text": [
      "SCRAPING RESULTS\n",
      "44 https://www.procyclingstats.com/race/san-sebastian/2025\n",
      "/result\n",
      "=============\n",
      "45 https://www.procyclingstats.com/race/tour-de-pologne/2025\n",
      "/stage-1\n",
      "=============\n",
      "/stage-2\n",
      "=============\n",
      "/stage-3\n",
      "=============\n",
      "/stage-4\n",
      "=============\n",
      "/stage-5\n",
      "=============\n",
      "/stage-6\n",
      "=============\n",
      "/stage-7\n",
      "=============\n",
      "/gc\n",
      "=============\n",
      "46 https://www.procyclingstats.com/race/vuelta-a-burgos/2025\n",
      "/stage-1\n",
      "=============\n",
      "/stage-2\n",
      "=============\n",
      "/stage-3\n",
      "=============\n",
      "/stage-4\n",
      "=============\n",
      "/stage-5\n",
      "=============\n",
      "/gc\n",
      "=============\n",
      "\n",
      "SCRAPING STARTLISTS\n",
      "DONE: 2025-08-04 Tour de Pologne\n",
      "DONE: 2025-08-05 Vuelta a Burgos\n",
      "DONE: 2025-08-17 BEMER Cyclassics\n",
      "DONE: 2025-08-20 Renewi Tour\n",
      "DONE: 2025-08-20 Deutschland Tour\n",
      "DONE: 2025-08-23 Vuelta a España\n",
      "DONE: 2025-08-31 Bretagne Classic - Ouest-France\n",
      "DONE: 2025-09-02 Tour of Britain\n",
      "DONE: 2025-09-12 Grand Prix Cycliste de Québec\n",
      "DONE: 2025-09-14 Grand Prix Cycliste de Montréal\n",
      "DONE: 2025-09-17 Tour de Luxembourg\n",
      "DONE: 2025-09-17 Grand Prix de Wallonie\n",
      "DONE: 2025-09-20 SUPER 8 Classic\n",
      "DONE: 2025-09-21 World Championships Time Trial\n",
      "DONE: 2025-09-28 World Championships Road Race\n",
      "DONE: 2025-10-01 European Championships Time Trial\n",
      "DONE: 2025-10-04 Giro dell'Emilia\n",
      "DONE: 2025-10-05 European Championships Road Race\n",
      "DONE: 2025-10-06 Coppa Bernocchi\n",
      "DONE: 2025-10-07 Tre Valli Varesine\n",
      "DONE: 2025-10-09 Gran Piemonte\n",
      "DONE: 2025-10-11 Il Lombardia\n",
      "DONE: 2025-10-12 Paris-Tours\n",
      "DONE: 2025-10-14 Tour of Guangxi\n",
      "\n",
      "MAKING DATA\n",
      "\n",
      "DUCKDB DATA\n"
     ]
    },
    {
     "data": {
      "text/html": [
       "<span style=\"None\">Connecting to &#x27;duckdb:///:memory:&#x27;</span>"
      ],
      "text/plain": [
       "Connecting to 'duckdb:///:memory:'"
      ]
     },
     "metadata": {},
     "output_type": "display_data"
    },
    {
     "name": "stdout",
     "output_type": "stream",
     "text": [
      "\n",
      "CREATING SITES\n"
     ]
    }
   ],
   "source": [
    "print(\"SCRAPING RESULTS\")\n",
    "%run -n ./scraper.ipynb\n",
    "\n",
    "print()\n",
    "print(\"SCRAPING STARTLISTS\")\n",
    "%run ./scraper_startlists.ipynb\n",
    "\n",
    "print()\n",
    "print(\"MAKING DATA\")\n",
    "%run ./datamaker.ipynb\n",
    "\n",
    "print()\n",
    "print(\"DUCKDB DATA\")\n",
    "%run ./duckdb_to_site.ipynb\n",
    "\n",
    "print()\n",
    "print(\"CREATING SITES\")\n",
    "%run ./sitegenerator.ipynb"
   ]
  }
 ],
 "metadata": {
  "kernelspec": {
   "display_name": "Python 3",
   "language": "python",
   "name": "python3"
  },
  "language_info": {
   "codemirror_mode": {
    "name": "ipython",
    "version": 3
   },
   "file_extension": ".py",
   "mimetype": "text/x-python",
   "name": "python",
   "nbconvert_exporter": "python",
   "pygments_lexer": "ipython3",
   "version": "3.10.12"
  }
 },
 "nbformat": 4,
 "nbformat_minor": 2
}
