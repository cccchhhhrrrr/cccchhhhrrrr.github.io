{
 "cells": [
  {
   "cell_type": "code",
   "execution_count": 1,
   "metadata": {},
   "outputs": [
    {
     "data": {
      "text/html": [
       "<span style=\"None\">Connecting to &#x27;duckdb:///:memory:&#x27;</span>"
      ],
      "text/plain": [
       "Connecting to 'duckdb:///:memory:'"
      ]
     },
     "metadata": {},
     "output_type": "display_data"
    }
   ],
   "source": [
    "import duckdb\n",
    "import pandas as pd\n",
    "\n",
    "%load_ext sql\n",
    "conn = duckdb.connect()\n",
    "%sql duckdb:///:memory:\n",
    "%sql conn --alias duckdb\n",
    "\n",
    "%config SqlMagic.autopandas = True\n",
    "%config SqlMagic.feedback = False\n",
    "%config SqlMagic.displaycon = False"
   ]
  },
  {
   "cell_type": "code",
   "execution_count": 2,
   "metadata": {},
   "outputs": [
    {
     "data": {
      "text/html": [
       "<div>\n",
       "<style scoped>\n",
       "    .dataframe tbody tr th:only-of-type {\n",
       "        vertical-align: middle;\n",
       "    }\n",
       "\n",
       "    .dataframe tbody tr th {\n",
       "        vertical-align: top;\n",
       "    }\n",
       "\n",
       "    .dataframe thead th {\n",
       "        text-align: right;\n",
       "    }\n",
       "</style>\n",
       "<table border=\"1\" class=\"dataframe\">\n",
       "  <thead>\n",
       "    <tr style=\"text-align: right;\">\n",
       "      <th></th>\n",
       "      <th>Count</th>\n",
       "    </tr>\n",
       "  </thead>\n",
       "  <tbody>\n",
       "    <tr>\n",
       "      <th>0</th>\n",
       "      <td>14</td>\n",
       "    </tr>\n",
       "  </tbody>\n",
       "</table>\n",
       "</div>"
      ],
      "text/plain": [
       "   Count\n",
       "0     14"
      ]
     },
     "execution_count": 2,
     "metadata": {},
     "output_type": "execute_result"
    }
   ],
   "source": [
    "%%sql\n",
    "CREATE TABLE Riders             AS FROM \"../data/riders.csv\";\n",
    "CREATE TABLE RiderTeams         AS FROM \"../data/rider_teams.csv\";\n",
    "CREATE TABLE Managers           AS FROM \"../data/managers.csv\";\n",
    "CREATE TABLE ManagerTeams       AS FROM \"../data/manager_teams.csv\";\n",
    "CREATE TABLE ManagerTeamsCheapo AS FROM \"../data/manager_cheapo_teams.csv\";\n",
    "CREATE TABLE PointsSystem       AS FROM \"../data/points_system.csv\";\n",
    "CREATE TABLE Races              AS FROM \"../data/races.csv\";\n",
    "CREATE TABLE Results_2023       AS FROM \"../data/results/results_2023_full.csv\";\n",
    "CREATE TABLE Results_2024       AS FROM \"../data/results/results_2024_full.csv\";\n",
    "CREATE TABLE Results_2025       AS FROM \"../data/results/results_2025_full.csv\";\n",
    "CREATE TABLE CheapoBans         AS FROM \"../data/cheapo_bans.csv\";"
   ]
  },
  {
   "cell_type": "code",
   "execution_count": 3,
   "metadata": {},
   "outputs": [
    {
     "data": {
      "text/html": [
       "<div>\n",
       "<style scoped>\n",
       "    .dataframe tbody tr th:only-of-type {\n",
       "        vertical-align: middle;\n",
       "    }\n",
       "\n",
       "    .dataframe tbody tr th {\n",
       "        vertical-align: top;\n",
       "    }\n",
       "\n",
       "    .dataframe thead th {\n",
       "        text-align: right;\n",
       "    }\n",
       "</style>\n",
       "<table border=\"1\" class=\"dataframe\">\n",
       "  <thead>\n",
       "    <tr style=\"text-align: right;\">\n",
       "      <th></th>\n",
       "      <th>Count</th>\n",
       "    </tr>\n",
       "  </thead>\n",
       "  <tbody>\n",
       "    <tr>\n",
       "      <th>0</th>\n",
       "      <td>7399</td>\n",
       "    </tr>\n",
       "  </tbody>\n",
       "</table>\n",
       "</div>"
      ],
      "text/plain": [
       "   Count\n",
       "0   7399"
      ]
     },
     "execution_count": 3,
     "metadata": {},
     "output_type": "execute_result"
    }
   ],
   "source": [
    "%%sql\n",
    "CREATE OR REPLACE TABLE RaceResultsPoints AS\n",
    "SELECT\n",
    "     results.Race\n",
    "    ,races.RaceName\n",
    "    ,races.RaceCategory\n",
    "    ,results.Stage_ID\n",
    "    ,COALESCE(results.Stage_Date, races.RaceStart) AS Stage_Date\n",
    "    ,results.Stage_Type\n",
    "    ,CASE WHEN results.Stage_ID <> 'gc' AND (results.Stage_Type <> 'TTT' OR results.Stage_Type IS NULL) THEN 1 ELSE 0 END AS Løbsdage\n",
    "    ,results.Rider AS RiderName_PCS\n",
    "    ,riders.RiderName_Zweeler\n",
    "    ,riders.RiderPrice\n",
    "    ,riders.RiderTeam\n",
    "    ,CASE WHEN cbans.RiderName IS NULL AND riders.RiderPrice <= 2.5 THEN 'Ja' ELSE '' END AS Cheapo\n",
    "    ,results.Rank\n",
    "    ,points.RacePoints AS Points\n",
    "    ,CASE WHEN races.RaceName = 'Tour Down Under' THEN NULL Else points.RacePoints END AS CheapoPoints\n",
    "FROM Riders riders\n",
    "LEFT JOIN Results_2025 results ON results.Rider = riders.RiderName_PCS\n",
    "LEFT JOIN Races races ON races.RaceName_PCS = results.Race\n",
    "LEFT JOIN CheapoBans cbans ON cbans.RiderName = riders.RiderName_Zweeler\n",
    "LEFT JOIN PointsSystem points ON 1 = 1\n",
    "    AND (results.Stage_Type IS NULL OR results.Stage_Type <> 'TTT')\n",
    "    AND points.RaceRank = TRY_CAST(results.Rank AS INTEGER) \n",
    "    AND CASE WHEN results.Stage_ID LIKE '%stage%' THEN REPLACE(races.RaceCategory, 'Tour', 'Stage') ELSE races.RaceCategory END = points.RaceCategory;"
   ]
  },
  {
   "cell_type": "code",
   "execution_count": 4,
   "metadata": {},
   "outputs": [],
   "source": [
    "%%sql\n",
    "rider_output << \n",
    "WITH\n",
    "ManagerLists AS\n",
    "(\n",
    "    SELECT RiderName, STRING_AGG(ManagerName, ', ' ORDER BY ManagerName ASC) AS Managers\n",
    "    FROM ManagerTeams\n",
    "    GROUP BY RiderName\n",
    "),\n",
    "RiderOverview AS \n",
    "(\n",
    "    SELECT\n",
    "         RiderName_Zweeler AS Navn\n",
    "        ,MAX(RiderTeam) AS Hold\n",
    "        ,MAX(RiderPrice) AS Pris\n",
    "        ,SUM(Løbsdage) AS Løbsdage\n",
    "        ,COALESCE(CAST(SUM(Points) AS int), 0) AS Point\n",
    "    FROM RaceResultsPoints\n",
    "    GROUP BY RiderName_Zweeler\n",
    ")\n",
    "SELECT \n",
    "     *\n",
    "    ,ROUND(Point / Pris, 1) AS \"P/mil\"\n",
    "    ,ROUND(CASE WHEN Løbsdage = 0 THEN 0 ELSE Point / Løbsdage END, 1) AS \"P/dage\"\n",
    "    ,COALESCE((SELECT Managers FROM ManagerLists sub WHERE sub.RiderName = src.Navn), '') AS Managers\n",
    "FROM RiderOverview src;"
   ]
  },
  {
   "cell_type": "code",
   "execution_count": 5,
   "metadata": {},
   "outputs": [],
   "source": [
    "%%sql\n",
    "rider_output_cheapo << \n",
    "WITH\n",
    "ManagerLists AS\n",
    "(\n",
    "    SELECT RiderName, STRING_AGG(ManagerName, ', ' ORDER BY ManagerName ASC) AS Managers\n",
    "    FROM ManagerTeamsCheapo\n",
    "    GROUP BY RiderName\n",
    "),\n",
    "RiderOverview AS \n",
    "(\n",
    "    SELECT\n",
    "         RiderName_Zweeler AS Navn\n",
    "        ,MAX(RiderTeam) AS Hold\n",
    "        ,MAX(RiderPrice) AS Pris\n",
    "        ,SUM(Løbsdage) AS Løbsdage\n",
    "        ,COALESCE(CAST(SUM(CheapoPoints) AS int), 0) AS Point\n",
    "        ,MAX(Cheapo) AS Cheapo\n",
    "    FROM RaceResultsPoints\n",
    "    GROUP BY RiderName_Zweeler\n",
    ")\n",
    "SELECT \n",
    "     Navn\n",
    "    ,Hold\n",
    "    ,Pris\n",
    "    ,Løbsdage\n",
    "    ,Point\n",
    "    ,ROUND(Point / Pris, 1) AS \"P/mil\"\n",
    "    ,ROUND(CASE WHEN Løbsdage = 0 THEN 0 ELSE Point / Løbsdage END, 1) AS \"P/dage\"\n",
    "    ,COALESCE((SELECT Managers FROM ManagerLists sub WHERE sub.RiderName = src.Navn), '') AS Managers\n",
    "FROM RiderOverview src\n",
    "WHERE Cheapo = 'Ja';"
   ]
  },
  {
   "cell_type": "code",
   "execution_count": 6,
   "metadata": {},
   "outputs": [],
   "source": [
    "rider_output.to_html(\"../outputtables/RytteroversigtTabel.html\", table_id = \"filterabletable\", index = False)\n",
    "rider_output_cheapo.to_html(\"../outputtables/RytteroversigtCheapoTabel.html\", table_id = \"filterabletable\", index = False)"
   ]
  }
 ],
 "metadata": {
  "kernelspec": {
   "display_name": "Python 3",
   "language": "python",
   "name": "python3"
  },
  "language_info": {
   "codemirror_mode": {
    "name": "ipython",
    "version": 3
   },
   "file_extension": ".py",
   "mimetype": "text/x-python",
   "name": "python",
   "nbconvert_exporter": "python",
   "pygments_lexer": "ipython3",
   "version": "3.10.12"
  }
 },
 "nbformat": 4,
 "nbformat_minor": 2
}
