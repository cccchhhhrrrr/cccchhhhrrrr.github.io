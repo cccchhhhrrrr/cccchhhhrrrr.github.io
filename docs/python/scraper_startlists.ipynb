{
 "cells": [
  {
   "cell_type": "code",
   "execution_count": 11,
   "metadata": {},
   "outputs": [],
   "source": [
    "import numpy as np\n",
    "import pandas as pd\n",
    "import re\n",
    "import requests\n",
    "import time\n",
    "from collections import defaultdict\n",
    "import datetime\n",
    "from bs4 import BeautifulSoup"
   ]
  },
  {
   "cell_type": "code",
   "execution_count": 12,
   "metadata": {},
   "outputs": [],
   "source": [
    "RIDERS = pd.read_csv(\"../data/riders.csv\")\n",
    "RIDER_TEAMS = pd.read_csv(\"../data/rider_teams.csv\")\n",
    "MANAGERS = pd.read_csv(\"../data/managers.csv\")\n",
    "MANAGER_TEAMS = pd.read_csv(\"../data/manager_teams.csv\")\n",
    "MANAGER_CHEAPO_TEAMS = pd.read_csv(\"../data/manager_cheapo_teams.csv\")\n",
    "POINTS_SYSTEM = pd.read_csv(\"../data/points_system.csv\")\n",
    "RACES = pd.read_csv(\"../data/races.csv\")\n",
    "RESULTS_2023 = pd.read_csv(\"../data/results/results_2023_full.csv\")\n",
    "RESULTS_2024 = pd.read_csv(\"../data/results/results_2024_full.csv\")\n",
    "RESULTS_2025 = pd.read_csv(\"../data/results/results_2025_full.csv\")\n",
    "CHEAPO_BANS = pd.read_csv(\"../data/cheapo_bans.csv\")"
   ]
  },
  {
   "cell_type": "code",
   "execution_count": 13,
   "metadata": {},
   "outputs": [],
   "source": [
    "TEAMS_OVERVIEW = pd.merge(MANAGER_TEAMS, RIDERS, how = \"left\", left_on = \"RiderName\", right_on = \"RiderName_Zweeler\")\n",
    "TEAMS_OVERVIEW = TEAMS_OVERVIEW[[\"ManagerName\", \"RiderName_PCS\", \"RiderPrice\"]]\n",
    "\n",
    "def pad_price(price, name):\n",
    "    padded_price = (\"000000\" + str(price))[::-1][0:5][::-1]\n",
    "    name_added_price = padded_price + name\n",
    "    return name_added_price\n",
    "\n",
    "TEAMS_OVERVIEW[\"RankCol\"] = TEAMS_OVERVIEW.apply(lambda row: pad_price(row[\"RiderPrice\"], row[\"RiderName_PCS\"]), axis = 1)\n",
    "TEAMS_OVERVIEW[\"TeamRank\"] = (TEAMS_OVERVIEW.groupby(\"ManagerName\")[\"RankCol\"].rank(method = \"dense\", ascending = False).astype(int))\n",
    "\n",
    "nums = list(TEAMS_OVERVIEW[\"TeamRank\"].unique())\n",
    "nums.sort()\n",
    "OVERVIEW = pd.DataFrame(nums, columns = [\"Rank\"])\n",
    "\n",
    "def get_rider(manager, rank):\n",
    "    R = TEAMS_OVERVIEW.loc[(TEAMS_OVERVIEW[\"ManagerName\"] == manager) & (TEAMS_OVERVIEW[\"TeamRank\"] == rank)]\n",
    "    return list(R[\"RiderName_PCS\"].unique())[0]\n",
    "\n",
    "ms = list(TEAMS_OVERVIEW[\"ManagerName\"].unique())\n",
    "\n",
    "for m in ms:\n",
    "    OVERVIEW[m] = OVERVIEW.apply(lambda row: get_rider(m, row[\"Rank\"]), axis = 1)"
   ]
  },
  {
   "cell_type": "code",
   "execution_count": 14,
   "metadata": {},
   "outputs": [],
   "source": [
    "def get_startlist(URL, RACENAME):\n",
    "        \n",
    "    page = requests.get(URL)\n",
    "    soup = BeautifulSoup(page.content, \"html.parser\")\n",
    "\n",
    "    title = soup.title.text\n",
    "    if title.startswith(\"Page not found\"):\n",
    "        return []\n",
    "\n",
    "    startlist_table = soup.find_all(\"table\", class_ = \"basic\")[0]\n",
    "    rows = startlist_table.find(\"tbody\").find_all(\"tr\")\n",
    "\n",
    "    startlist = []\n",
    "\n",
    "    for i, row in enumerate(rows):\n",
    "        cols = row.find_all(\"td\")\n",
    "        startlist.append(cols[2].text.strip())\n",
    "\n",
    "    startlist = [s.title() for s in startlist]        \n",
    "\n",
    "    txt = OVERVIEW.to_html()\n",
    "\n",
    "    for rider in startlist:\n",
    "        to_replace = \"<td>\" + rider + \"</td>\"\n",
    "        replacement = '<td class = \"startlist\">' + rider + \"</td>\"\n",
    "        txt = txt.replace(to_replace, replacement)\n",
    "\n",
    "    txt = \"\"\"<html>\n",
    "    <head>\n",
    "    <style>\n",
    "      body {\n",
    "        font-family: 'Trebuchet MS', 'Lucida Sans Unicode', 'Lucida Grande', 'Lucida Sans', Arial, sans-serif;\n",
    "      }\n",
    "\n",
    "      table {\n",
    "        font-size: 11px;\n",
    "        border-collapse: collapse;\n",
    "        width: 90%;\n",
    "      }\n",
    "      \n",
    "      td, th {\n",
    "        border: 1px solid #dddddd;\n",
    "        text-align: left;\n",
    "        padding: 8px;\n",
    "      }\n",
    "    .startlist {\n",
    "    background-color: green;\n",
    "    }\n",
    "    </style>\n",
    "    </head>\n",
    "    <body>\n",
    "    \"\"\" + txt + \"\"\"\n",
    "\n",
    "    </body>\n",
    "    </html>\"\"\"\n",
    "\n",
    "    print(\"DONE:\", RACENAME)\n",
    "\n",
    "    with open(\"../Løbsstartlister/\" + RACENAME + \".md\", \"w\") as file:\n",
    "        file.write(txt)"
   ]
  },
  {
   "cell_type": "code",
   "execution_count": null,
   "metadata": {},
   "outputs": [
    {
     "name": "stdout",
     "output_type": "stream",
     "text": [
      "DONE: 2025-07-05 Tour de France\n"
     ]
    },
    {
     "ename": "KeyboardInterrupt",
     "evalue": "",
     "output_type": "error",
     "traceback": [
      "\u001b[0;31m---------------------------------------------------------------------------\u001b[0m",
      "\u001b[0;31mKeyboardInterrupt\u001b[0m                         Traceback (most recent call last)",
      "Cell \u001b[0;32mIn[15], line 21\u001b[0m\n\u001b[1;32m     19\u001b[0m url \u001b[38;5;241m=\u001b[39m url \u001b[38;5;241m+\u001b[39m \u001b[38;5;124m\"\u001b[39m\u001b[38;5;124m/startlist/alphabetical\u001b[39m\u001b[38;5;124m\"\u001b[39m\n\u001b[1;32m     20\u001b[0m get_startlist(url, racename)\n\u001b[0;32m---> 21\u001b[0m \u001b[43mtime\u001b[49m\u001b[38;5;241;43m.\u001b[39;49m\u001b[43msleep\u001b[49m\u001b[43m(\u001b[49m\u001b[38;5;241;43m15\u001b[39;49m\u001b[43m)\u001b[49m\n",
      "\u001b[0;31mKeyboardInterrupt\u001b[0m: "
     ]
    }
   ],
   "source": [
    "races = pd.read_csv(\"../data/races.csv\")\n",
    "\n",
    "NOW = datetime.datetime.now()\n",
    "FROM = NOW + datetime.timedelta(days = -2)\n",
    "TO = NOW + datetime.timedelta(days = 200)\n",
    "\n",
    "RACES_TO_GET = races\n",
    "RACES_TO_GET[\"RaceStart\"] = pd.to_datetime(RACES_TO_GET[\"RaceStart\"], format = \"%Y-%m-%d %H:%M:00\")\n",
    "RACES_TO_GET[\"RaceEnd\"] = pd.to_datetime(RACES_TO_GET[\"RaceEnd\"], format = \"%Y-%m-%d %H:%M:00\")\n",
    "RACES_TO_GET = races[(races[\"RaceEnd\"] > FROM) & (races[\"RaceEnd\"] < TO)]\n",
    "\n",
    "for i, r in RACES_TO_GET.iterrows():\n",
    "    racename = r['RaceName']\n",
    "    racestart = str(r['RaceStart'])\n",
    "    racestart = datetime.datetime.strptime(racestart, \"%Y-%m-%d %H:%M:00\")\n",
    "    racestart = datetime.datetime.strftime(racestart, \"%Y-%m-%d\")\n",
    "    racename = racestart + \" \" + racename\n",
    "    url = r['RaceLink_PCS']\n",
    "    url = url + \"/startlist/alphabetical\"\n",
    "    get_startlist(url, racename)\n",
    "    time.sleep(15)"
   ]
  }
 ],
 "metadata": {
  "kernelspec": {
   "display_name": "Python 3",
   "language": "python",
   "name": "python3"
  },
  "language_info": {
   "codemirror_mode": {
    "name": "ipython",
    "version": 3
   },
   "file_extension": ".py",
   "mimetype": "text/x-python",
   "name": "python",
   "nbconvert_exporter": "python",
   "pygments_lexer": "ipython3",
   "version": "3.10.12"
  }
 },
 "nbformat": 4,
 "nbformat_minor": 2
}
