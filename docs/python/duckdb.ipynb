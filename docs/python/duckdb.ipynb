{
 "cells": [
  {
   "cell_type": "code",
   "execution_count": 1,
   "metadata": {},
   "outputs": [],
   "source": [
    "#!pip install jupysql pandas matplotlib duckdb-engine duckdb"
   ]
  },
  {
   "cell_type": "code",
   "execution_count": 2,
   "metadata": {},
   "outputs": [
    {
     "data": {
      "text/html": [
       "<span style=\"None\">Connecting to &#x27;duckdb:///:memory:&#x27;</span>"
      ],
      "text/plain": [
       "Connecting to 'duckdb:///:memory:'"
      ]
     },
     "metadata": {},
     "output_type": "display_data"
    }
   ],
   "source": [
    "import duckdb\n",
    "import pandas as pd\n",
    "\n",
    "%load_ext sql\n",
    "%sql duckdb:///:memory:"
   ]
  },
  {
   "cell_type": "code",
   "execution_count": 3,
   "metadata": {},
   "outputs": [
    {
     "data": {
      "text/html": [
       "<span style=\"None\">Running query in &#x27;duckdb:///:memory:&#x27;</span>"
      ],
      "text/plain": [
       "Running query in 'duckdb:///:memory:'"
      ]
     },
     "metadata": {},
     "output_type": "display_data"
    },
    {
     "data": {
      "text/html": [
       "<table>\n",
       "    <thead>\n",
       "        <tr>\n",
       "            <th>Count</th>\n",
       "        </tr>\n",
       "    </thead>\n",
       "    <tbody>\n",
       "    </tbody>\n",
       "</table>"
      ],
      "text/plain": [
       "+-------+\n",
       "| Count |\n",
       "+-------+\n",
       "+-------+"
      ]
     },
     "execution_count": 3,
     "metadata": {},
     "output_type": "execute_result"
    }
   ],
   "source": [
    "%%sql\n",
    "CREATE TABLE Riders             AS FROM \"../data/riders.csv\";\n",
    "CREATE TABLE RiderTeams         AS FROM \"../data/rider_teams.csv\";\n",
    "CREATE TABLE Managers           AS FROM \"../data/managers.csv\";\n",
    "CREATE TABLE ManagerTeams       AS FROM \"../data/manager_teams.csv\";\n",
    "CREATE TABLE ManagerTeamsCheapo AS FROM \"../data/manager_cheapo_teams.csv\";\n",
    "CREATE TABLE PointsSystem       AS FROM \"../data/points_system.csv\";\n",
    "CREATE TABLE Races              AS FROM \"../data/races.csv\";\n",
    "CREATE TABLE Results_2023       AS FROM \"../data/results/results_2023_full.csv\";\n",
    "CREATE TABLE Results_2024       AS FROM \"../data/results/results_2024_full.csv\";\n",
    "CREATE TABLE Results_2025       AS FROM \"../data/results/results_2025_full.csv\";\n",
    "CREATE TABLE CheapoBans         AS FROM \"../data/cheapo_bans.csv\";"
   ]
  },
  {
   "cell_type": "code",
   "execution_count": 4,
   "metadata": {},
   "outputs": [
    {
     "data": {
      "text/html": [
       "<span style=\"None\">Running query in &#x27;duckdb:///:memory:&#x27;</span>"
      ],
      "text/plain": [
       "Running query in 'duckdb:///:memory:'"
      ]
     },
     "metadata": {},
     "output_type": "display_data"
    },
    {
     "data": {
      "text/html": [
       "<table>\n",
       "    <thead>\n",
       "        <tr>\n",
       "            <th>Count</th>\n",
       "        </tr>\n",
       "    </thead>\n",
       "    <tbody>\n",
       "    </tbody>\n",
       "</table>"
      ],
      "text/plain": [
       "+-------+\n",
       "| Count |\n",
       "+-------+\n",
       "+-------+"
      ]
     },
     "execution_count": 4,
     "metadata": {},
     "output_type": "execute_result"
    }
   ],
   "source": [
    "%%sql\n",
    "CREATE OR REPLACE TABLE RaceResultsPoints AS\n",
    "SELECT\n",
    "     results.Race\n",
    "    ,races.RaceName\n",
    "    ,races.RaceCategory\n",
    "    ,results.Stage_ID\n",
    "    ,results.Stage_Date\n",
    "    ,results.Stage_type\n",
    "    ,results.Rider AS RiderName_PCS\n",
    "    ,riders.RiderName_Zweeler\n",
    "    ,results.Rank\n",
    "    ,points.RacePoints AS Points\n",
    "    ,CASE WHEN races.RaceName = 'Tour Down Under' THEN NULL Else points.RacePoints END AS CheapoPoints\n",
    "FROM Results_2025 results\n",
    "INNER JOIN Races races ON races.RaceName_PCS = results.Race\n",
    "INNER JOIN Riders riders ON riders.RiderName_PCS = results.Rider\n",
    "LEFT JOIN PointsSystem points ON 1 = 1\n",
    "    AND (results.Stage_Type IS NULL OR results.Stage_Type <> 'TTT')\n",
    "    AND points.RaceRank = TRY_CAST(results.Rank AS INTEGER) \n",
    "    AND CASE WHEN results.Stage_ID LIKE '%stage%' THEN REPLACE(races.RaceCategory, 'Tour', 'Stage') ELSE races.RaceCategory END = points.RaceCategory;"
   ]
  },
  {
   "cell_type": "code",
   "execution_count": 8,
   "metadata": {},
   "outputs": [
    {
     "data": {
      "text/html": [
       "<span style=\"None\">Running query in &#x27;duckdb:///:memory:&#x27;</span>"
      ],
      "text/plain": [
       "Running query in 'duckdb:///:memory:'"
      ]
     },
     "metadata": {},
     "output_type": "display_data"
    }
   ],
   "source": [
    "%%sql\n",
    "res <<\n",
    "SELECT *\n",
    "FROM RaceResultsPoints\n",
    "WHERE RiderName_PCS LIKE '%Onley%'\n",
    "ORDER BY Stage_ID ASC;"
   ]
  },
  {
   "cell_type": "code",
   "execution_count": 10,
   "metadata": {},
   "outputs": [],
   "source": [
    "res_df = pd.DataFrame(res)"
   ]
  },
  {
   "cell_type": "code",
   "execution_count": 12,
   "metadata": {},
   "outputs": [
    {
     "data": {
      "text/plain": [
       "'<table border=\"1\" class=\"dataframe\">\\n  <thead>\\n    <tr style=\"text-align: right;\">\\n      <th></th>\\n      <th>RACE</th>\\n      <th>RaceName</th>\\n      <th>RaceCategory</th>\\n      <th>STAGE_ID</th>\\n      <th>STAGE_DATE</th>\\n      <th>STAGE_TYPE</th>\\n      <th>RiderName_PCS</th>\\n      <th>RiderName_Zweeler</th>\\n      <th>RANK</th>\\n      <th>Points</th>\\n      <th>CheapoPoints</th>\\n    </tr>\\n  </thead>\\n  <tbody>\\n    <tr>\\n      <th>0</th>\\n      <td>tour-down-under</td>\\n      <td>Tour Down Under</td>\\n      <td>Tour Cat. 2</td>\\n      <td>gc</td>\\n      <td>2025-01-26</td>\\n      <td>None</td>\\n      <td>Onley Oscar</td>\\n      <td>Onley, Oscar</td>\\n      <td>4</td>\\n      <td>60.0</td>\\n      <td>NaN</td>\\n    </tr>\\n    <tr>\\n      <th>1</th>\\n      <td>uae-tour</td>\\n      <td>UAE Tour</td>\\n      <td>Tour Cat. 2</td>\\n      <td>gc</td>\\n      <td>2025-02-23</td>\\n      <td>None</td>\\n      <td>Onley Oscar</td>\\n      <td>Onley, Oscar</td>\\n      <td>5</td>\\n      <td>50.0</td>\\n      <td>50.0</td>\\n    </tr>\\n    <tr>\\n      <th>2</th>\\n      <td>great-ocean-road-race</td>\\n      <td>Cadel Evans Great Ocean Road Race</td>\\n      <td>Classics Cat. 2</td>\\n      <td>result</td>\\n      <td>None</td>\\n      <td>None</td>\\n      <td>Onley Oscar</td>\\n      <td>Onley, Oscar</td>\\n      <td>9</td>\\n      <td>18.0</td>\\n      <td>18.0</td>\\n    </tr>\\n    <tr>\\n      <th>3</th>\\n      <td>tour-down-under</td>\\n      <td>Tour Down Under</td>\\n      <td>Tour Cat. 2</td>\\n      <td>stage-1</td>\\n      <td>2025-01-21</td>\\n      <td>Normal</td>\\n      <td>Onley Oscar</td>\\n      <td>Onley, Oscar</td>\\n      <td>81</td>\\n      <td>NaN</td>\\n      <td>NaN</td>\\n    </tr>\\n    <tr>\\n      <th>4</th>\\n      <td>uae-tour</td>\\n      <td>UAE Tour</td>\\n      <td>Tour Cat. 2</td>\\n      <td>stage-1</td>\\n      <td>2025-02-17</td>\\n      <td>Normal</td>\\n      <td>Onley Oscar</td>\\n      <td>Onley, Oscar</td>\\n      <td>5</td>\\n      <td>12.0</td>\\n      <td>12.0</td>\\n    </tr>\\n    <tr>\\n      <th>5</th>\\n      <td>tour-down-under</td>\\n      <td>Tour Down Under</td>\\n      <td>Tour Cat. 2</td>\\n      <td>stage-2</td>\\n      <td>2025-01-22</td>\\n      <td>Normal</td>\\n      <td>Onley Oscar</td>\\n      <td>Onley, Oscar</td>\\n      <td>32</td>\\n      <td>NaN</td>\\n      <td>NaN</td>\\n    </tr>\\n    <tr>\\n      <th>6</th>\\n      <td>uae-tour</td>\\n      <td>UAE Tour</td>\\n      <td>Tour Cat. 2</td>\\n      <td>stage-2</td>\\n      <td>2025-02-18</td>\\n      <td>ITT</td>\\n      <td>Onley Oscar</td>\\n      <td>Onley, Oscar</td>\\n      <td>32</td>\\n      <td>NaN</td>\\n      <td>NaN</td>\\n    </tr>\\n    <tr>\\n      <th>7</th>\\n      <td>tour-down-under</td>\\n      <td>Tour Down Under</td>\\n      <td>Tour Cat. 2</td>\\n      <td>stage-3</td>\\n      <td>2025-01-23</td>\\n      <td>Normal</td>\\n      <td>Onley Oscar</td>\\n      <td>Onley, Oscar</td>\\n      <td>17</td>\\n      <td>NaN</td>\\n      <td>NaN</td>\\n    </tr>\\n    <tr>\\n      <th>8</th>\\n      <td>uae-tour</td>\\n      <td>UAE Tour</td>\\n      <td>Tour Cat. 2</td>\\n      <td>stage-3</td>\\n      <td>2025-02-19</td>\\n      <td>Normal</td>\\n      <td>Onley Oscar</td>\\n      <td>Onley, Oscar</td>\\n      <td>2</td>\\n      <td>20.0</td>\\n      <td>20.0</td>\\n    </tr>\\n    <tr>\\n      <th>9</th>\\n      <td>tour-down-under</td>\\n      <td>Tour Down Under</td>\\n      <td>Tour Cat. 2</td>\\n      <td>stage-4</td>\\n      <td>2025-01-24</td>\\n      <td>Normal</td>\\n      <td>Onley Oscar</td>\\n      <td>Onley, Oscar</td>\\n      <td>56</td>\\n      <td>NaN</td>\\n      <td>NaN</td>\\n    </tr>\\n    <tr>\\n      <th>10</th>\\n      <td>uae-tour</td>\\n      <td>UAE Tour</td>\\n      <td>Tour Cat. 2</td>\\n      <td>stage-4</td>\\n      <td>2025-02-20</td>\\n      <td>Normal</td>\\n      <td>Onley Oscar</td>\\n      <td>Onley, Oscar</td>\\n      <td>67</td>\\n      <td>NaN</td>\\n      <td>NaN</td>\\n    </tr>\\n    <tr>\\n      <th>11</th>\\n      <td>uae-tour</td>\\n      <td>UAE Tour</td>\\n      <td>Tour Cat. 2</td>\\n      <td>stage-5</td>\\n      <td>2025-02-21</td>\\n      <td>Normal</td>\\n      <td>Onley Oscar</td>\\n      <td>Onley, Oscar</td>\\n      <td>52</td>\\n      <td>NaN</td>\\n      <td>NaN</td>\\n    </tr>\\n    <tr>\\n      <th>12</th>\\n      <td>tour-down-under</td>\\n      <td>Tour Down Under</td>\\n      <td>Tour Cat. 2</td>\\n      <td>stage-5</td>\\n      <td>2025-01-25</td>\\n      <td>Normal</td>\\n      <td>Onley Oscar</td>\\n      <td>Onley, Oscar</td>\\n      <td>2</td>\\n      <td>20.0</td>\\n      <td>NaN</td>\\n    </tr>\\n    <tr>\\n      <th>13</th>\\n      <td>tour-down-under</td>\\n      <td>Tour Down Under</td>\\n      <td>Tour Cat. 2</td>\\n      <td>stage-6</td>\\n      <td>2025-01-26</td>\\n      <td>Normal</td>\\n      <td>Onley Oscar</td>\\n      <td>Onley, Oscar</td>\\n      <td>29</td>\\n      <td>NaN</td>\\n      <td>NaN</td>\\n    </tr>\\n    <tr>\\n      <th>14</th>\\n      <td>uae-tour</td>\\n      <td>UAE Tour</td>\\n      <td>Tour Cat. 2</td>\\n      <td>stage-6</td>\\n      <td>2025-02-22</td>\\n      <td>Normal</td>\\n      <td>Onley Oscar</td>\\n      <td>Onley, Oscar</td>\\n      <td>61</td>\\n      <td>NaN</td>\\n      <td>NaN</td>\\n    </tr>\\n    <tr>\\n      <th>15</th>\\n      <td>uae-tour</td>\\n      <td>UAE Tour</td>\\n      <td>Tour Cat. 2</td>\\n      <td>stage-7</td>\\n      <td>2025-02-23</td>\\n      <td>Normal</td>\\n      <td>Onley Oscar</td>\\n      <td>Onley, Oscar</td>\\n      <td>5</td>\\n      <td>12.0</td>\\n      <td>12.0</td>\\n    </tr>\\n  </tbody>\\n</table>'"
      ]
     },
     "execution_count": 12,
     "metadata": {},
     "output_type": "execute_result"
    }
   ],
   "source": [
    "res_df.to_html()"
   ]
  },
  {
   "cell_type": "code",
   "execution_count": null,
   "metadata": {},
   "outputs": [],
   "source": []
  }
 ],
 "metadata": {
  "kernelspec": {
   "display_name": "Python 3",
   "language": "python",
   "name": "python3"
  },
  "language_info": {
   "codemirror_mode": {
    "name": "ipython",
    "version": 3
   },
   "file_extension": ".py",
   "mimetype": "text/x-python",
   "name": "python",
   "nbconvert_exporter": "python",
   "pygments_lexer": "ipython3",
   "version": "3.10.12"
  }
 },
 "nbformat": 4,
 "nbformat_minor": 2
}
