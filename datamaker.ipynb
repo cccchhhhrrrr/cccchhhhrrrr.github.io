{
 "cells": [
  {
   "cell_type": "code",
   "execution_count": 2,
   "metadata": {},
   "outputs": [],
   "source": [
    "import pandas as pd"
   ]
  },
  {
   "cell_type": "code",
   "execution_count": 41,
   "metadata": {},
   "outputs": [],
   "source": [
    "RIDERS = pd.read_csv(\"./docs/data/riders.csv\")\n",
    "RIDER_TEAMS = pd.read_csv(\"./docs/data/rider_teams.csv\")\n",
    "MANAGERS = pd.read_csv(\"./docs/data/managers.csv\")\n",
    "MANAGER_TEAMS = pd.read_csv(\"./docs/data/manager_teams.csv\")\n",
    "POINTS_SYSTEM = pd.read_csv(\"./docs/data/points_system.csv\")"
   ]
  }
 ],
 "metadata": {
  "kernelspec": {
   "display_name": "Python 3",
   "language": "python",
   "name": "python3"
  },
  "language_info": {
   "codemirror_mode": {
    "name": "ipython",
    "version": 3
   },
   "file_extension": ".py",
   "mimetype": "text/x-python",
   "name": "python",
   "nbconvert_exporter": "python",
   "pygments_lexer": "ipython3",
   "version": "3.10.12"
  }
 },
 "nbformat": 4,
 "nbformat_minor": 2
}
