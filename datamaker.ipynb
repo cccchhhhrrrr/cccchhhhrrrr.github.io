{
 "cells": [
  {
   "cell_type": "code",
   "execution_count": 107,
   "metadata": {},
   "outputs": [],
   "source": [
    "import pandas as pd"
   ]
  },
  {
   "cell_type": "code",
   "execution_count": 108,
   "metadata": {},
   "outputs": [],
   "source": [
    "RIDERS = pd.read_csv(\"./docs/data/riders.csv\")\n",
    "RIDER_TEAMS = pd.read_csv(\"./docs/data/rider_teams.csv\")\n",
    "MANAGERS = pd.read_csv(\"./docs/data/managers.csv\")\n",
    "MANAGER_TEAMS = pd.read_csv(\"./docs/data/manager_teams.csv\")\n",
    "POINTS_SYSTEM = pd.read_csv(\"./docs/data/points_system.csv\")\n",
    "RACES = pd.read_csv(\"./docs/data/races.csv\")\n",
    "RESULTS_2023 = pd.read_csv(\"./docs/data/results/results_2023_full.csv\")\n",
    "RESULTS_2024 = pd.read_csv(\"./docs/data/results/results_2024_full.csv\")\n",
    "RESULTS_2025 = pd.read_csv(\"./docs/data/results/results_2025_full.csv\")"
   ]
  },
  {
   "cell_type": "code",
   "execution_count": 140,
   "metadata": {},
   "outputs": [],
   "source": [
    "# Riders owned by\n",
    "RIDERS_OWNED_BY = MANAGER_TEAMS.groupby([\"RiderName\"])[\"ManagerName\"].apply(\", \".join).reset_index()\n",
    "\n",
    "# Race categories\n",
    "RACE_CATEGORIES = RACES[[\"RaceName_PCS\", \"RaceCategory\"]]\n",
    "\n",
    "# Relevant results\n",
    "RESULTS_POINTS = RESULTS_2025[[\"RACE\", \"STAGE_ID\", \"STAGE_TYPE\", \"RANK\", \"RIDER\"]]\n",
    "RESULTS_POINTS = RESULTS_POINTS.rename(columns = {\n",
    "    \"RACE\": \"RaceName\",\n",
    "    \"STAGE_ID\": \"StageID\",\n",
    "    \"STAGE_TYPE\": \"StageType\",\n",
    "    \"RANK\": \"Rank\",\n",
    "    \"RIDER\": \"RiderName\"\n",
    "})\n",
    "RESULTS_POINTS = RESULTS_POINTS.dropna(subset = [\"StageID\"])\n",
    "RESULTS_POINTS = RESULTS_POINTS.loc[RESULTS_POINTS[\"StageType\"] != \"TTT\"]\n",
    "\n",
    "def convert_to_int(row):\n",
    "    if row.isdigit():\n",
    "        return int(row)\n",
    "    else:\n",
    "        return 0\n",
    "    \n",
    "def stage_or_gcresult(stage_id, race_category):\n",
    "    if stage_id.startswith(\"stage\"):\n",
    "        return race_category.replace(\"Tour \", \"Stage \")\n",
    "    else:\n",
    "        return race_category    \n",
    "\n",
    "RESULTS_POINTS = pd.merge(RESULTS_POINTS, RACE_CATEGORIES, how = \"inner\", left_on = [\"RaceName\"], right_on = [\"RaceName_PCS\"])\n",
    "RESULTS_POINTS[\"Rank\"] = RESULTS_POINTS.apply(lambda row: convert_to_int(row[\"Rank\"]), axis = 1)\n",
    "RESULTS_POINTS[\"RaceCategory\"] = RESULTS_POINTS.apply(lambda row: stage_or_gcresult(row[\"StageID\"], row[\"RaceCategory\"]), axis = 1)\n",
    "RESULTS_POINTS = pd.merge(RESULTS_POINTS, POINTS_SYSTEM, how = \"left\", left_on = [\"RaceCategory\", \"Rank\"], right_on = [\"RaceCategory\", \"RaceRank\"])\n",
    "RESULTS_POINTS = pd.merge(RESULTS_POINTS, RIDERS, how = \"left\", left_on = [\"RiderName\"], right_on = [\"RiderName_PCS\"])\n",
    "\n",
    "# Rider points\n",
    "RIDER_POINTS = RESULTS_POINTS.groupby([\"RiderName_Zweeler\"])[\"RacePoints\"].sum().reset_index()\n",
    "\n",
    "# Rider racedays\n",
    "RIDER_RACEDAYS = RESULTS_POINTS.loc[RESULTS_POINTS[\"StageID\"] != \"gc\"]\n",
    "RIDER_RACEDAYS = RIDER_RACEDAYS.groupby([\"RiderName_Zweeler\"])[\"RiderName_Zweeler\"].count().rename(\"Racedays\").reset_index()\n",
    "#RIDER_RACEDAYS.rename(columns = {0: \"RiderName_Zweeler\", 1: \"Racedays\"}, inplace = True)"
   ]
  },
  {
   "cell_type": "code",
   "execution_count": null,
   "metadata": {},
   "outputs": [
    {
     "name": "stdout",
     "output_type": "stream",
     "text": [
      "   RiderName_Zweeler     RiderName_PCS                    RiderTeam  \\\n",
      "0    Aberasturi, Jon    Aberasturi Jon          Euskaltel - Euskadi   \n",
      "1  Abrahamsen, Jonas  Abrahamsen Jonas               Uno-X Mobility   \n",
      "2  Ackermann, Pascal  Ackermann Pascal        Israel - Premier Tech   \n",
      "3       Adrià, Roger       Adrià Roger  Red Bull - BORA - hansgrohe   \n",
      "4     Aert, Wout van     Van Aert Wout    Team Visma - Lease a Bike   \n",
      "\n",
      "   RiderPrice  Racedays  RacePoints          RiderName  \\\n",
      "0         2.7       NaN         NaN                NaN   \n",
      "1         6.2       5.0         0.0  Abrahamsen, Jonas   \n",
      "2         6.6       NaN         NaN                NaN   \n",
      "3         6.8       NaN         NaN       Adrià, Roger   \n",
      "4        37.4       NaN         NaN     Aert, Wout van   \n",
      "\n",
      "                            ManagerName  \n",
      "0                                   NaN  \n",
      "1                                 Tommy  \n",
      "2                                   NaN  \n",
      "3                                Okholm  \n",
      "4  Chrelle, Jarma, Matti, Okholm, Tommy  \n"
     ]
    }
   ],
   "source": [
    "RIDER_OUTPUT = RIDERS\n",
    "\n",
    "RIDER_OUTPUT = pd.merge(RIDER_OUTPUT, RIDER_RACEDAYS, how = \"left\", left_on = [\"RiderName_Zweeler\"], right_on = [\"RiderName_Zweeler\"])\n",
    "RIDER_OUTPUT = pd.merge(RIDER_OUTPUT, RIDER_POINTS, how = \"left\", left_on = [\"RiderName_Zweeler\"], right_on = [\"RiderName_Zweeler\"])\n",
    "RIDER_OUTPUT = pd.merge(RIDER_OUTPUT, RIDERS_OWNED_BY, how = \"left\", left_on = [\"RiderName_Zweeler\"], right_on = [\"RiderName\"])\n",
    "\n",
    "\n",
    "\n",
    "RIDER_OUTPUT[\"PPM\"] = \n",
    "\n",
    "# CREATE TABLE CONSISTING OF:\n",
    "# RIDERNAME\n",
    "# RIDERTEAM\n",
    "# RACEDAYS TOTAL (Number from PCS)\n",
    "# RACEDAYS IN GAME (NUmber of stages incl. DNF/DNS, excluding TTT and GC)\n",
    "# Points 2025 (calculated)\n",
    "# Points 2024 (calculated)\n",
    "# PPM 2025 (calculated)\n",
    "# Picked by number in game (need to scrape from Zweeler)\n",
    "# Cheapo eligible (<= 2.5 + not banned)\n",
    "# Managers owning"
   ]
  },
  {
   "cell_type": "code",
   "execution_count": 111,
   "metadata": {},
   "outputs": [
    {
     "data": {
      "text/plain": [
       "'\\nBANS\\nKenk: Staune-Mittet\\nVisti: Jeanniere\\nJarma: Rex\\nJappo: Tim Tom Timtomberg\\nChrelle: Withen\\nTore: Goossens\\nHustlersen: Kogut\\nKenk: Aleotti\\nVisti: Seixas\\nJarma: Uhlig\\nJappo: Biermans\\nChrelle: Brenner\\nTore: Behrens\\nHustlersen: Sam Watson\\n'"
      ]
     },
     "execution_count": 111,
     "metadata": {},
     "output_type": "execute_result"
    }
   ],
   "source": [
    "\"\"\"\n",
    "BANS\n",
    "Kenk: Staune-Mittet\n",
    "Visti: Jeanniere\n",
    "Jarma: Rex\n",
    "Jappo: Tim Tom Timtomberg\n",
    "Chrelle: Withen\n",
    "Tore: Goossens\n",
    "Hustlersen: Kogut\n",
    "Kenk: Aleotti\n",
    "Visti: Seixas\n",
    "Jarma: Uhlig\n",
    "Jappo: Biermans\n",
    "Chrelle: Brenner\n",
    "Tore: Behrens\n",
    "Hustlersen: Sam Watson\n",
    "\"\"\""
   ]
  }
 ],
 "metadata": {
  "kernelspec": {
   "display_name": "Python 3",
   "language": "python",
   "name": "python3"
  },
  "language_info": {
   "codemirror_mode": {
    "name": "ipython",
    "version": 3
   },
   "file_extension": ".py",
   "mimetype": "text/x-python",
   "name": "python",
   "nbconvert_exporter": "python",
   "pygments_lexer": "ipython3",
   "version": "3.10.12"
  }
 },
 "nbformat": 4,
 "nbformat_minor": 2
}
